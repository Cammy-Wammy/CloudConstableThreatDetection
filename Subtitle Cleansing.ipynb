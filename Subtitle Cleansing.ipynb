{
 "cells": [
  {
   "cell_type": "markdown",
   "metadata": {},
   "source": [
    "# Cloud Constable Cleanse Subtitle (.srt) Files for Labelling\n",
    "______\n",
    "### Stephen Camera-Murray, Himani Garg, Vijay Thangella\n",
    "Using Game of Thrones subtitle file for demonstration.\n",
    "(https://www.srtfiles.com/)"
   ]
  },
  {
   "cell_type": "markdown",
   "metadata": {},
   "source": [
    "### Step 1 - Create a function to cleanse an .srt file to one row per subtitle\n",
    "____"
   ]
  },
  {
   "cell_type": "markdown",
   "metadata": {},
   "source": [
    "#### Import required libraries"
   ]
  },
  {
   "cell_type": "code",
   "execution_count": 1,
   "metadata": {},
   "outputs": [],
   "source": [
    "# cleanse_srt ( fin, fout ) - function to cleanse an .srt file\n",
    "#   parameters:\n",
    "#     fin  - input filename\n",
    "#     fout - output filename\n",
    "#   returns:\n",
    "#\n",
    "#   example: cleanse_srt ( fin, fout )\n",
    "#\n",
    "\n",
    "def cleanse_srt ( fin, fout ):\n",
    "\n",
    "    # reset vars\n",
    "    subtitle_lines = False\n",
    "    subtitle = ''\n",
    "    \n",
    "    # open output file for writing\n",
    "    outfile = gzip.open(fout, 'wt')\n",
    "\n",
    "    # open input file and loop\n",
    "    with gzip.open(fin,'rt') as f:\n",
    "        for line in f:\n",
    "\n",
    "            # check to see if we're on the lines with the subtitle, if not check to see if we are\n",
    "            # subtitles immediately follow the time range and end with a blank line\n",
    "            if (not subtitle_lines):\n",
    "                subtitle_lines = ('-->' in line)\n",
    "            else:\n",
    "\n",
    "                # check for a blank line, if not strip out HTML and append to full_subtitle\n",
    "                subtitle_lines = (line.strip() != '')\n",
    "                if subtitle_lines:\n",
    "                    soup = BeautifulSoup(line)\n",
    "                    text = soup.get_text()\n",
    "                    subtitle += ' ' + text.strip()\n",
    "            \n",
    "                # at the end of the subtitle, write it out\n",
    "                else:\n",
    "                    outfile.writelines ( subtitle.strip() + '\\n' )\n",
    "                    subtitle = ''\n",
    "                    \n",
    "    # close the output file\n",
    "    outfile.close()\n",
    "    \n",
    "    return"
   ]
  },
  {
   "cell_type": "markdown",
   "metadata": {},
   "source": [
    "### Step 2 - Test the function\n",
    "____"
   ]
  },
  {
   "cell_type": "markdown",
   "metadata": {},
   "source": [
    "#### Import required libraries"
   ]
  },
  {
   "cell_type": "code",
   "execution_count": 6,
   "metadata": {
    "collapsed": true
   },
   "outputs": [],
   "source": [
    "#import libraries\n",
    "from bs4 import BeautifulSoup\n",
    "import gzip\n",
    "import warnings\n",
    "import os\n",
    "\n",
    "# do not display warnings\n",
    "warnings.filterwarnings('ignore')"
   ]
  },
  {
   "cell_type": "markdown",
   "metadata": {},
   "source": [
    "#### Test the function"
   ]
  },
  {
   "cell_type": "code",
   "execution_count": 19,
   "metadata": {
    "scrolled": true
   },
   "outputs": [],
   "source": [
    "# loop through the data directory and cleanse each .srt file\n",
    "for fin in os.listdir('data'):\n",
    "    if ( '.srt' in fin ):\n",
    "        cleanse_srt ('data/'+fin, 'data/'+fin.replace('.srt','.txt'))"
   ]
  }
 ],
 "metadata": {
  "kernelspec": {
   "display_name": "Python 3",
   "language": "python",
   "name": "python3"
  },
  "language_info": {
   "codemirror_mode": {
    "name": "ipython",
    "version": 3
   },
   "file_extension": ".py",
   "mimetype": "text/x-python",
   "name": "python",
   "nbconvert_exporter": "python",
   "pygments_lexer": "ipython3",
   "version": "3.6.1"
  }
 },
 "nbformat": 4,
 "nbformat_minor": 2
}
